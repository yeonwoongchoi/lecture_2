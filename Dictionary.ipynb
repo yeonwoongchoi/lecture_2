{
 "cells": [
  {
   "cell_type": "markdown",
   "metadata": {},
   "source": [
    "# Dictionary\n"
   ]
  },
  {
   "cell_type": "code",
   "execution_count": 1,
   "metadata": {},
   "outputs": [
    {
     "data": {
      "text/plain": [
       "3"
      ]
     },
     "execution_count": 1,
     "metadata": {},
     "output_type": "execute_result"
    }
   ],
   "source": [
    "people_info = {'성':'홍', '이름' : '길동', '직장' : '강남'}\n",
    "len(people_info)"
   ]
  },
  {
   "cell_type": "code",
   "execution_count": 4,
   "metadata": {},
   "outputs": [
    {
     "data": {
      "text/plain": [
       "2"
      ]
     },
     "execution_count": 4,
     "metadata": {},
     "output_type": "execute_result"
    }
   ],
   "source": [
    "people_info_list = [{'성':'홍', '이름' : '길동', '직장' : '강남'}, {'성':'홍', '이름' : '길동', '직장' : '강남'}]\n",
    "len(people_info_list)\n",
    "len(people_info_list[0])"
   ]
  },
  {
   "cell_type": "code",
   "execution_count": 16,
   "metadata": {},
   "outputs": [
    {
     "name": "stdout",
     "output_type": "stream",
     "text": [
      "강남\n",
      "길동\n",
      "dict_keys(['성', '이름', '직장'])\n",
      "dict_values(['홍', '길동', '강남'])\n"
     ]
    }
   ],
   "source": [
    "people_info = {'성':'홍', '이름' : '길동', '직장' : '강남'}\n",
    "print(people_info['직장'])\n",
    "print(people_info['이름'])\n",
    "#key값을 입력해야 value값이 나온다. value값을 입력하면 key값이 나오지않는다.\n",
    "print(people_info.keys())\n",
    "#리스트의 형태로 자료값이 출력된다.\n",
    "print(people_info.values())"
   ]
  },
  {
   "cell_type": "code",
   "execution_count": 18,
   "metadata": {},
   "outputs": [
    {
     "data": {
      "text/plain": [
       "list"
      ]
     },
     "execution_count": 18,
     "metadata": {},
     "output_type": "execute_result"
    }
   ],
   "source": [
    "key_list = list(people_info.values())\n",
    "type(key_list)"
   ]
  },
  {
   "cell_type": "code",
   "execution_count": 21,
   "metadata": {},
   "outputs": [
    {
     "name": "stdout",
     "output_type": "stream",
     "text": [
      "길동\n"
     ]
    }
   ],
   "source": [
    "print(key_list[1])"
   ]
  },
  {
   "cell_type": "markdown",
   "metadata": {},
   "source": [
    "## 딕셔너리 삽입과 삭제"
   ]
  },
  {
   "cell_type": "code",
   "execution_count": 23,
   "metadata": {},
   "outputs": [
    {
     "name": "stdout",
     "output_type": "stream",
     "text": [
      "{'성': '홍', '이름': '길동', '직장': '강남', '취미': '테니스'}\n"
     ]
    }
   ],
   "source": [
    "people_info = {'성':'홍', '이름' : '길동', '직장' : '강남'}\n",
    "\n",
    "people_info['취미'] = '테니스'\n",
    "\n",
    "print(people_info)"
   ]
  },
  {
   "cell_type": "code",
   "execution_count": 24,
   "metadata": {},
   "outputs": [
    {
     "name": "stdout",
     "output_type": "stream",
     "text": [
      "{'성': '홍', '이름': '태경', '직장': '강남'}\n"
     ]
    }
   ],
   "source": [
    "people_info = {'성':'홍', '이름' : '길동', '직장' : '강남'}\n",
    "\n",
    "people_info['이름'] = '태경'\n",
    "\n",
    "print(people_info)"
   ]
  },
  {
   "cell_type": "code",
   "execution_count": 28,
   "metadata": {},
   "outputs": [
    {
     "name": "stdout",
     "output_type": "stream",
     "text": [
      "{'성': '홍', '이름': '길동', '직장': '강남'}\n"
     ]
    }
   ],
   "source": [
    "people_info = {'성': '홍', '이름': '길동', '직장': '강남', '취미': '테니스'}\n",
    "del people_info['취미']\n",
    "print(people_info)\n",
    "#없는 key값을 지울 수 없다.(Error)"
   ]
  },
  {
   "cell_type": "code",
   "execution_count": 32,
   "metadata": {},
   "outputs": [
    {
     "data": {
      "text/plain": [
       "True"
      ]
     },
     "execution_count": 32,
     "metadata": {},
     "output_type": "execute_result"
    }
   ],
   "source": [
    "people_info = {'성': '홍', '이름': '길동', '직장': '강남', '취미': '테니스'}\n",
    "\n",
    "'홍' in people_info['성']\n",
    "#전체 안에선 key값만 있는지 없는지 알 수 있다. 하지만 키 안의 value를 확인 할 수 있다."
   ]
  },
  {
   "cell_type": "code",
   "execution_count": 33,
   "metadata": {},
   "outputs": [
    {
     "data": {
      "text/plain": [
       "False"
      ]
     },
     "execution_count": 33,
     "metadata": {},
     "output_type": "execute_result"
    }
   ],
   "source": [
    "people_info = {'성': '홍', '이름': '길동', '직장': '강남', '취미': '테니스'}\n",
    "\n",
    "'성' not in people_info"
   ]
  },
  {
   "cell_type": "code",
   "execution_count": 38,
   "metadata": {},
   "outputs": [
    {
     "data": {
      "text/plain": [
       "False"
      ]
     },
     "execution_count": 38,
     "metadata": {},
     "output_type": "execute_result"
    }
   ],
   "source": [
    "people_info1 = {'성': '홍', '이름': '길동', '직장': '강남', '취미': '테니스'}\n",
    "people_info2 = {'성': '김', '이름': '길동', '직장': '강남', '취미': '테니스'}\n",
    "people_info1 == people_info2"
   ]
  },
  {
   "cell_type": "markdown",
   "metadata": {},
   "source": [
    "# dictionary 병합(update)"
   ]
  },
  {
   "cell_type": "code",
   "execution_count": 41,
   "metadata": {},
   "outputs": [
    {
     "name": "stdout",
     "output_type": "stream",
     "text": [
      "{'성': '김', '이름': '태경', '직장': '강북', '취미': '컴퓨터'}\n"
     ]
    }
   ],
   "source": [
    "people_info_1 = {'성': '홍', '이름': '길동', '직장': '강남', '취미': '테니스'}\n",
    "people_info_2 = {'성': '김', '이름': '태경', '직장': '강북', '취미': '컴퓨터'}\n",
    "\n",
    "people_info_1.update(people_info_2)\n",
    "#key가 같으면 덮어씌움\n",
    "print(people_info_1)"
   ]
  },
  {
   "cell_type": "code",
   "execution_count": 42,
   "metadata": {},
   "outputs": [
    {
     "name": "stdout",
     "output_type": "stream",
     "text": [
      "{'성': '홍', '이름': '길동', '직장': '강남', '취미': '테니스', '주소': '서울시', '나이': '25'}\n"
     ]
    }
   ],
   "source": [
    "people_info_1 = {'성': '홍', '이름': '길동', '직장': '강남', '취미': '테니스'}\n",
    "people_info_2 = {'주소' : '서울시', '나이' : '25'}\n",
    "\n",
    "people_info_1.update(people_info_2)\n",
    "#key가 같으면 덮어씌움\n",
    "print(people_info_1)"
   ]
  },
  {
   "cell_type": "code",
   "execution_count": 37,
   "metadata": {},
   "outputs": [
    {
     "name": "stdout",
     "output_type": "stream",
     "text": [
      "[{'성': '홍', '이름': '길동', '직장': '강남', '취미': '테니스'}, {'성': '김', '이름': '길동', '직장': '강남', '취미': '테니스'}]\n"
     ]
    }
   ],
   "source": [
    "people_info1 = {'성': '홍', '이름': '길동', '직장': '강남', '취미': '테니스'}\n",
    "people_info2 = {'성': '김', '이름': '길동', '직장': '강남', '취미': '테니스'}\n",
    "\n",
    "people =[]\n",
    "\n",
    "people.append(people_info1)\n",
    "people.append(people_info2)\n",
    "\n",
    "print(people)"
   ]
  },
  {
   "cell_type": "code",
   "execution_count": null,
   "metadata": {},
   "outputs": [],
   "source": [
    "people_info1 = {'성': '홍', '이름': '길동', '직장': '강남', '취미': '테니스'}\n",
    "\n",
    "people_info1."
   ]
  }
 ],
 "metadata": {
  "kernelspec": {
   "display_name": "Python 3",
   "language": "python",
   "name": "python3"
  },
  "language_info": {
   "codemirror_mode": {
    "name": "ipython",
    "version": 3
   },
   "file_extension": ".py",
   "mimetype": "text/x-python",
   "name": "python",
   "nbconvert_exporter": "python",
   "pygments_lexer": "ipython3",
   "version": "3.8.3"
  }
 },
 "nbformat": 4,
 "nbformat_minor": 4
}
