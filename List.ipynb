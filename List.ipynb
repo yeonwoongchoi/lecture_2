{
 "cells": [
  {
   "cell_type": "code",
   "execution_count": 6,
   "metadata": {},
   "outputs": [
    {
     "name": "stdout",
     "output_type": "stream",
     "text": [
      "<class 'list'>\n",
      "40\n"
     ]
    }
   ],
   "source": [
    "score_lists = [10, 20, 30, 40, 50, 60]\n",
    "print(type(score_lists))\n",
    "\n",
    "print(score_lists[3])"
   ]
  },
  {
   "cell_type": "code",
   "execution_count": 9,
   "metadata": {},
   "outputs": [],
   "source": [
    "fruits = ['banana' , 'apple' , 'orange', 'kiwi']\n",
    "fruits\n",
    "mixed_list = [100,200,300,'apple', 500]\n",
    "mixed_list = "
   ]
  },
  {
   "cell_type": "code",
   "execution_count": 15,
   "metadata": {},
   "outputs": [
    {
     "name": "stdout",
     "output_type": "stream",
     "text": [
      "[20, 30, 40, 50]\n"
     ]
    }
   ],
   "source": [
    "score_lists = [10, 20, 30, 40, 50, 60,70,80,90]\n",
    "\n",
    "print(score_lists[1:5])"
   ]
  },
  {
   "cell_type": "code",
   "execution_count": 20,
   "metadata": {},
   "outputs": [
    {
     "name": "stdout",
     "output_type": "stream",
     "text": [
      "[50, 60, 70, 80]\n"
     ]
    }
   ],
   "source": [
    "score_lists = [10, 20, 30, 40, 50, 60,70,80,90]\n",
    "print(score_lists[-5:-1])"
   ]
  },
  {
   "cell_type": "code",
   "execution_count": 27,
   "metadata": {},
   "outputs": [
    {
     "name": "stdout",
     "output_type": "stream",
     "text": [
      "a\n",
      "b\n"
     ]
    }
   ],
   "source": [
    "list6 = [1,2,3,4,5,5,['a','b','c']]\n",
    "len(list6)\n",
    "\n",
    "list7 = list6[60]\n",
    "print(list7[0])\n",
    "\n",
    "print(list6[6][1])"
   ]
  },
  {
   "cell_type": "markdown",
   "metadata": {},
   "source": [
    "## 리스트 항목 추가(append)\n"
   ]
  },
  {
   "cell_type": "code",
   "execution_count": 32,
   "metadata": {},
   "outputs": [
    {
     "name": "stdout",
     "output_type": "stream",
     "text": [
      "['a', 'b', 'c', 'd', 'f', 'e']\n"
     ]
    }
   ],
   "source": [
    "a_list = ['a','b','c','d']\n",
    "#오른쪽으로 게속 채워 들어감 알파벳 순으로 정렬하지 않음\n",
    "a_list.append('f')\n",
    "a_list.append('e')\n",
    "print(a_list)"
   ]
  },
  {
   "cell_type": "code",
   "execution_count": null,
   "metadata": {},
   "outputs": [],
   "source": [
    "a_list = ['a','b','c','d']\n",
    "a_list[4] = 'f'\n"
   ]
  },
  {
   "cell_type": "markdown",
   "metadata": {},
   "source": [
    "## 리스트 항목 삭제(del, remove, pop)"
   ]
  },
  {
   "cell_type": "code",
   "execution_count": 39,
   "metadata": {},
   "outputs": [
    {
     "name": "stdout",
     "output_type": "stream",
     "text": [
      "['a', 'b', 'c', 'd']\n"
     ]
    }
   ],
   "source": [
    "del_list = ['a','b','c','d','e']\n",
    "\n",
    "del_list.remove('e')\n",
    "##or del_list.remove(del_list[-1])이런식으로 써줘도 된다.\n",
    "print(del_list)"
   ]
  },
  {
   "cell_type": "code",
   "execution_count": 42,
   "metadata": {},
   "outputs": [
    {
     "name": "stdout",
     "output_type": "stream",
     "text": [
      "['a', 'c', 'd', 'e']\n"
     ]
    }
   ],
   "source": [
    "del_list = ['a','b','c','d','e']\n",
    "del_list.pop(1)\n",
    "#pop은 문자열을 지워주는 용어 무엇을 지워줬는지 보여준다.\n",
    "print(del_list)"
   ]
  },
  {
   "cell_type": "markdown",
   "metadata": {},
   "source": [
    "## 멤버연산자(in, not in)"
   ]
  },
  {
   "cell_type": "code",
   "execution_count": 57,
   "metadata": {},
   "outputs": [
    {
     "name": "stdout",
     "output_type": "stream",
     "text": [
      "g\n",
      "없다\n"
     ]
    }
   ],
   "source": [
    "member_list = ['a','b','c','d','e','f']\n",
    "if input() in member_list:\n",
    "    print(\"있다\")\n",
    "else:\n",
    "    print(\"없다\")"
   ]
  },
  {
   "cell_type": "code",
   "execution_count": null,
   "metadata": {},
   "outputs": [],
   "source": []
  }
 ],
 "metadata": {
  "kernelspec": {
   "display_name": "Python 3",
   "language": "python",
   "name": "python3"
  },
  "language_info": {
   "codemirror_mode": {
    "name": "ipython",
    "version": 3
   },
   "file_extension": ".py",
   "mimetype": "text/x-python",
   "name": "python",
   "nbconvert_exporter": "python",
   "pygments_lexer": "ipython3",
   "version": "3.8.3"
  }
 },
 "nbformat": 4,
 "nbformat_minor": 4
}
